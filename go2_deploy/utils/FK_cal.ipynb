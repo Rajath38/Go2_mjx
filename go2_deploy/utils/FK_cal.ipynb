{
 "cells": [
  {
   "cell_type": "markdown",
   "metadata": {},
   "source": [
    "THIS IS FOR FK CALCULATIONS OF QUATIONS FOR ROBOT GO2"
   ]
  },
  {
   "cell_type": "code",
   "execution_count": 1,
   "metadata": {},
   "outputs": [],
   "source": [
    "import sympy as sp\n",
    "import numpy as np\n",
    "import roboticstoolbox as rtb"
   ]
  },
  {
   "cell_type": "code",
   "execution_count": null,
   "metadata": {},
   "outputs": [
    {
     "name": "stdout",
     "output_type": "stream",
     "text": [
      "⎡cos(θ₁)  -sin(θ₁)⋅cos(α)  sin(α)⋅sin(θ₁)   r⋅cos(θ₁)⎤\n",
      "⎢                                                    ⎥\n",
      "⎢sin(θ₁)  cos(α)⋅cos(θ₁)   -sin(α)⋅cos(θ₁)  r⋅sin(θ₁)⎥\n",
      "⎢                                                    ⎥\n",
      "⎢   0         sin(α)           cos(α)           d    ⎥\n",
      "⎢                                                    ⎥\n",
      "⎣   0            0                0             1    ⎦\n"
     ]
    }
   ],
   "source": [
    "def dh_transformation(theta, alpha, r, d):\n",
    "    \"\"\"\n",
    "    Compute the Denavit-Hartenberg transformation matrix.\n",
    "    \n",
    "    Parameters:\n",
    "        theta (symbol/rroat): Joint angle (rotation about z-axis)\n",
    "        alpha (symbol/rroat): Link twist (rotation about x-axis)\n",
    "        r (symbol/rroat): Link length (translation along x-axis)\n",
    "        d (symbol/rroat): Link offset (translation along z-axis)\n",
    "    \n",
    "    Returns:\n",
    "        sympy.Matrix: The 4x4 DH transformation matrix\n",
    "    \"\"\"\n",
    "    T = sp.Matrix([\n",
    "        [sp.cos(theta), -sp.sin(theta) * sp.cos(alpha), sp.sin(theta) * sp.sin(alpha), r * sp.cos(theta)],\n",
    "        [sp.sin(theta), sp.cos(theta) * sp.cos(alpha), -sp.cos(theta) * sp.sin(alpha), r * sp.sin(theta)],\n",
    "        [0, sp.sin(alpha), sp.cos(alpha), d],\n",
    "        [0, 0, 0, 1]\n",
    "    ])\n",
    "    \n",
    "    return T\n",
    "\n",
    "# Example usage with symbolic variables\n",
    "t1, t2, t3, alpha, r, d, rfoot = sp.symbols('theta1, theta2, theta3, alpha r d root_radius')\n",
    "T = dh_transformation(t1, alpha, r, d)\n",
    "sp.pprint(T)"
   ]
  },
  {
   "cell_type": "code",
   "execution_count": 3,
   "metadata": {},
   "outputs": [],
   "source": [
    "# Example evaluation with given values\n",
    "T1_2 = dh_transformation(t1, sp.rad(90), 0, 0)\n",
    "T2_3 = dh_transformation(t2, 0, -0.213, 0.0955)\n",
    "T3_ef = dh_transformation(t3, 0, -0.213, 0)"
   ]
  },
  {
   "cell_type": "code",
   "execution_count": 4,
   "metadata": {},
   "outputs": [
    {
     "data": {
      "text/latex": [
       "$\\displaystyle \\left[\\begin{matrix}\\cos{\\left(\\theta_{1} \\right)} & 0 & \\sin{\\left(\\theta_{1} \\right)} & 0\\\\\\sin{\\left(\\theta_{1} \\right)} & 0 & - \\cos{\\left(\\theta_{1} \\right)} & 0\\\\0 & 1 & 0 & 0\\\\0 & 0 & 0 & 1\\end{matrix}\\right]$"
      ],
      "text/plain": [
       "Matrix([\n",
       "[cos(theta1), 0,  sin(theta1), 0],\n",
       "[sin(theta1), 0, -cos(theta1), 0],\n",
       "[          0, 1,            0, 0],\n",
       "[          0, 0,            0, 1]])"
      ]
     },
     "execution_count": 4,
     "metadata": {},
     "output_type": "execute_result"
    }
   ],
   "source": [
    "T1_2"
   ]
  },
  {
   "cell_type": "code",
   "execution_count": 5,
   "metadata": {},
   "outputs": [
    {
     "data": {
      "text/latex": [
       "$\\displaystyle \\left[\\begin{matrix}\\cos{\\left(\\theta_{2} \\right)} & - \\sin{\\left(\\theta_{2} \\right)} & 0 & - 0.213 \\cos{\\left(\\theta_{2} \\right)}\\\\\\sin{\\left(\\theta_{2} \\right)} & \\cos{\\left(\\theta_{2} \\right)} & 0 & - 0.213 \\sin{\\left(\\theta_{2} \\right)}\\\\0 & 0 & 1 & 0.0955\\\\0 & 0 & 0 & 1\\end{matrix}\\right]$"
      ],
      "text/plain": [
       "Matrix([\n",
       "[cos(theta2), -sin(theta2), 0, -0.213*cos(theta2)],\n",
       "[sin(theta2),  cos(theta2), 0, -0.213*sin(theta2)],\n",
       "[          0,            0, 1,             0.0955],\n",
       "[          0,            0, 0,                  1]])"
      ]
     },
     "execution_count": 5,
     "metadata": {},
     "output_type": "execute_result"
    }
   ],
   "source": [
    "T2_3"
   ]
  },
  {
   "cell_type": "code",
   "execution_count": 6,
   "metadata": {},
   "outputs": [
    {
     "data": {
      "text/latex": [
       "$\\displaystyle \\left[\\begin{matrix}\\cos{\\left(\\theta_{3} \\right)} & - \\sin{\\left(\\theta_{3} \\right)} & 0 & - 0.213 \\cos{\\left(\\theta_{3} \\right)}\\\\\\sin{\\left(\\theta_{3} \\right)} & \\cos{\\left(\\theta_{3} \\right)} & 0 & - 0.213 \\sin{\\left(\\theta_{3} \\right)}\\\\0 & 0 & 1 & 0\\\\0 & 0 & 0 & 1\\end{matrix}\\right]$"
      ],
      "text/plain": [
       "Matrix([\n",
       "[cos(theta3), -sin(theta3), 0, -0.213*cos(theta3)],\n",
       "[sin(theta3),  cos(theta3), 0, -0.213*sin(theta3)],\n",
       "[          0,            0, 1,                  0],\n",
       "[          0,            0, 0,                  1]])"
      ]
     },
     "execution_count": 6,
     "metadata": {},
     "output_type": "execute_result"
    }
   ],
   "source": [
    "T3_ef"
   ]
  },
  {
   "cell_type": "code",
   "execution_count": 7,
   "metadata": {},
   "outputs": [
    {
     "data": {
      "text/latex": [
       "$\\displaystyle \\left[\\begin{matrix}- \\sin{\\left(\\theta_{2} \\right)} \\sin{\\left(\\theta_{3} \\right)} \\cos{\\left(\\theta_{1} \\right)} + \\cos{\\left(\\theta_{1} \\right)} \\cos{\\left(\\theta_{2} \\right)} \\cos{\\left(\\theta_{3} \\right)} & - \\sin{\\left(\\theta_{2} \\right)} \\cos{\\left(\\theta_{1} \\right)} \\cos{\\left(\\theta_{3} \\right)} - \\sin{\\left(\\theta_{3} \\right)} \\cos{\\left(\\theta_{1} \\right)} \\cos{\\left(\\theta_{2} \\right)} & \\sin{\\left(\\theta_{1} \\right)} & 0.0955 \\sin{\\left(\\theta_{1} \\right)} + 0.213 \\sin{\\left(\\theta_{2} \\right)} \\sin{\\left(\\theta_{3} \\right)} \\cos{\\left(\\theta_{1} \\right)} - 0.213 \\cos{\\left(\\theta_{1} \\right)} \\cos{\\left(\\theta_{2} \\right)} \\cos{\\left(\\theta_{3} \\right)} - 0.213 \\cos{\\left(\\theta_{1} \\right)} \\cos{\\left(\\theta_{2} \\right)}\\\\- \\sin{\\left(\\theta_{1} \\right)} \\sin{\\left(\\theta_{2} \\right)} \\sin{\\left(\\theta_{3} \\right)} + \\sin{\\left(\\theta_{1} \\right)} \\cos{\\left(\\theta_{2} \\right)} \\cos{\\left(\\theta_{3} \\right)} & - \\sin{\\left(\\theta_{1} \\right)} \\sin{\\left(\\theta_{2} \\right)} \\cos{\\left(\\theta_{3} \\right)} - \\sin{\\left(\\theta_{1} \\right)} \\sin{\\left(\\theta_{3} \\right)} \\cos{\\left(\\theta_{2} \\right)} & - \\cos{\\left(\\theta_{1} \\right)} & 0.213 \\sin{\\left(\\theta_{1} \\right)} \\sin{\\left(\\theta_{2} \\right)} \\sin{\\left(\\theta_{3} \\right)} - 0.213 \\sin{\\left(\\theta_{1} \\right)} \\cos{\\left(\\theta_{2} \\right)} \\cos{\\left(\\theta_{3} \\right)} - 0.213 \\sin{\\left(\\theta_{1} \\right)} \\cos{\\left(\\theta_{2} \\right)} - 0.0955 \\cos{\\left(\\theta_{1} \\right)}\\\\\\sin{\\left(\\theta_{2} \\right)} \\cos{\\left(\\theta_{3} \\right)} + \\sin{\\left(\\theta_{3} \\right)} \\cos{\\left(\\theta_{2} \\right)} & - \\sin{\\left(\\theta_{2} \\right)} \\sin{\\left(\\theta_{3} \\right)} + \\cos{\\left(\\theta_{2} \\right)} \\cos{\\left(\\theta_{3} \\right)} & 0 & - 0.213 \\sin{\\left(\\theta_{2} \\right)} \\cos{\\left(\\theta_{3} \\right)} - 0.213 \\sin{\\left(\\theta_{2} \\right)} - 0.213 \\sin{\\left(\\theta_{3} \\right)} \\cos{\\left(\\theta_{2} \\right)}\\\\0 & 0 & 0 & 1\\end{matrix}\\right]$"
      ],
      "text/plain": [
       "Matrix([\n",
       "[-sin(theta2)*sin(theta3)*cos(theta1) + cos(theta1)*cos(theta2)*cos(theta3), -sin(theta2)*cos(theta1)*cos(theta3) - sin(theta3)*cos(theta1)*cos(theta2),  sin(theta1), 0.0955*sin(theta1) + 0.213*sin(theta2)*sin(theta3)*cos(theta1) - 0.213*cos(theta1)*cos(theta2)*cos(theta3) - 0.213*cos(theta1)*cos(theta2)],\n",
       "[-sin(theta1)*sin(theta2)*sin(theta3) + sin(theta1)*cos(theta2)*cos(theta3), -sin(theta1)*sin(theta2)*cos(theta3) - sin(theta1)*sin(theta3)*cos(theta2), -cos(theta1), 0.213*sin(theta1)*sin(theta2)*sin(theta3) - 0.213*sin(theta1)*cos(theta2)*cos(theta3) - 0.213*sin(theta1)*cos(theta2) - 0.0955*cos(theta1)],\n",
       "[                         sin(theta2)*cos(theta3) + sin(theta3)*cos(theta2),                         -sin(theta2)*sin(theta3) + cos(theta2)*cos(theta3),            0,                                                         -0.213*sin(theta2)*cos(theta3) - 0.213*sin(theta2) - 0.213*sin(theta3)*cos(theta2)],\n",
       "[                                                                         0,                                                                          0,            0,                                                                                                                                          1]])"
      ]
     },
     "execution_count": 7,
     "metadata": {},
     "output_type": "execute_result"
    }
   ],
   "source": [
    "T1_ef = T1_2 * T2_3 *T3_ef\n",
    "T1_ef"
   ]
  },
  {
   "cell_type": "code",
   "execution_count": 8,
   "metadata": {},
   "outputs": [
    {
     "data": {
      "text/plain": [
       "array([[ 0.     ,  0.     ,  1.     ,  0.21897],\n",
       "       [ 0.     , -1.     ,  0.     ,  0.0465 ],\n",
       "       [ 1.     ,  0.     ,  0.     , -0.04232],\n",
       "       [ 0.     ,  0.     ,  0.     ,  1.     ]])"
      ]
     },
     "execution_count": 8,
     "metadata": {},
     "output_type": "execute_result"
    }
   ],
   "source": [
    "T_imu_1 = np.array([[0.0, 0.0,  1.0, 2.18970000e-01],\n",
    "            [0.0, -1.0,  0.0, 4.65000000e-02],\n",
    "            [ 1.0, 0.0, 0.0, -4.23200000e-02],\n",
    "            [ 0.0, 0.0, 0.0, 1.0]])\n",
    "T_imu_1"
   ]
  },
  {
   "cell_type": "code",
   "execution_count": null,
   "metadata": {},
   "outputs": [
    {
     "data": {
      "text/plain": [
       "array([[0.0, 0.0, 1.0, -1.0*root_radius],\n",
       "       [1.0, 0.0, 0.0, 0.0],\n",
       "       [0.0, 1.0, 0.0, 0.0],\n",
       "       [0.0, 0.0, 0.0, 1.0]], dtype=object)"
      ]
     },
     "execution_count": 9,
     "metadata": {},
     "output_type": "execute_result"
    }
   ],
   "source": [
    "T_ef_rrfoot = np.array([[0.0, 0.0, 1.00000000000000, -1.0*rfoot],\n",
    "                        [1.0, 0.0, 0.0, 0.0],\n",
    "                        [0.0, 1.0, 0.0, 0.0],\n",
    "                        [0.0, 0.0, 0.0, 1.0]])\n",
    "T_ef_rrfoot"
   ]
  },
  {
   "cell_type": "code",
   "execution_count": null,
   "metadata": {},
   "outputs": [
    {
     "data": {
      "text/latex": [
       "$\\displaystyle \\left[\\begin{matrix}- 1.0 \\sin{\\left(\\theta_{2} \\right)} \\sin{\\left(\\theta_{3} \\right)} + 1.0 \\cos{\\left(\\theta_{2} \\right)} \\cos{\\left(\\theta_{3} \\right)} & 0 & 1.0 \\sin{\\left(\\theta_{2} \\right)} \\cos{\\left(\\theta_{3} \\right)} + 1.0 \\sin{\\left(\\theta_{3} \\right)} \\cos{\\left(\\theta_{2} \\right)} & - 1.0 root_{radius} \\left(1.0 \\sin{\\left(\\theta_{2} \\right)} \\cos{\\left(\\theta_{3} \\right)} + 1.0 \\sin{\\left(\\theta_{3} \\right)} \\cos{\\left(\\theta_{2} \\right)}\\right) - 0.213 \\sin{\\left(\\theta_{2} \\right)} \\cos{\\left(\\theta_{3} \\right)} - 0.213 \\sin{\\left(\\theta_{2} \\right)} - 0.213 \\sin{\\left(\\theta_{3} \\right)} \\cos{\\left(\\theta_{2} \\right)} + 0.21897\\\\1.0 \\sin{\\left(\\theta_{1} \\right)} \\sin{\\left(\\theta_{2} \\right)} \\cos{\\left(\\theta_{3} \\right)} + 1.0 \\sin{\\left(\\theta_{1} \\right)} \\sin{\\left(\\theta_{3} \\right)} \\cos{\\left(\\theta_{2} \\right)} & 1.0 \\cos{\\left(\\theta_{1} \\right)} & 1.0 \\sin{\\left(\\theta_{1} \\right)} \\sin{\\left(\\theta_{2} \\right)} \\sin{\\left(\\theta_{3} \\right)} - 1.0 \\sin{\\left(\\theta_{1} \\right)} \\cos{\\left(\\theta_{2} \\right)} \\cos{\\left(\\theta_{3} \\right)} & - 1.0 root_{radius} \\left(1.0 \\sin{\\left(\\theta_{1} \\right)} \\sin{\\left(\\theta_{2} \\right)} \\sin{\\left(\\theta_{3} \\right)} - 1.0 \\sin{\\left(\\theta_{1} \\right)} \\cos{\\left(\\theta_{2} \\right)} \\cos{\\left(\\theta_{3} \\right)}\\right) - 0.213 \\sin{\\left(\\theta_{1} \\right)} \\sin{\\left(\\theta_{2} \\right)} \\sin{\\left(\\theta_{3} \\right)} + 0.213 \\sin{\\left(\\theta_{1} \\right)} \\cos{\\left(\\theta_{2} \\right)} \\cos{\\left(\\theta_{3} \\right)} + 0.213 \\sin{\\left(\\theta_{1} \\right)} \\cos{\\left(\\theta_{2} \\right)} + 0.0955 \\cos{\\left(\\theta_{1} \\right)} + 0.0465\\\\- 1.0 \\sin{\\left(\\theta_{2} \\right)} \\cos{\\left(\\theta_{1} \\right)} \\cos{\\left(\\theta_{3} \\right)} - 1.0 \\sin{\\left(\\theta_{3} \\right)} \\cos{\\left(\\theta_{1} \\right)} \\cos{\\left(\\theta_{2} \\right)} & 1.0 \\sin{\\left(\\theta_{1} \\right)} & - 1.0 \\sin{\\left(\\theta_{2} \\right)} \\sin{\\left(\\theta_{3} \\right)} \\cos{\\left(\\theta_{1} \\right)} + 1.0 \\cos{\\left(\\theta_{1} \\right)} \\cos{\\left(\\theta_{2} \\right)} \\cos{\\left(\\theta_{3} \\right)} & - 1.0 root_{radius} \\left(- 1.0 \\sin{\\left(\\theta_{2} \\right)} \\sin{\\left(\\theta_{3} \\right)} \\cos{\\left(\\theta_{1} \\right)} + 1.0 \\cos{\\left(\\theta_{1} \\right)} \\cos{\\left(\\theta_{2} \\right)} \\cos{\\left(\\theta_{3} \\right)}\\right) + 0.0955 \\sin{\\left(\\theta_{1} \\right)} + 0.213 \\sin{\\left(\\theta_{2} \\right)} \\sin{\\left(\\theta_{3} \\right)} \\cos{\\left(\\theta_{1} \\right)} - 0.213 \\cos{\\left(\\theta_{1} \\right)} \\cos{\\left(\\theta_{2} \\right)} \\cos{\\left(\\theta_{3} \\right)} - 0.213 \\cos{\\left(\\theta_{1} \\right)} \\cos{\\left(\\theta_{2} \\right)} - 0.04232\\\\0 & 0 & 0 & 1.0\\end{matrix}\\right]$"
      ],
      "text/plain": [
       "Matrix([\n",
       "[                        -1.0*sin(theta2)*sin(theta3) + 1.0*cos(theta2)*cos(theta3),               0,                          1.0*sin(theta2)*cos(theta3) + 1.0*sin(theta3)*cos(theta2),                                                                                   -1.0*root_radius*(1.0*sin(theta2)*cos(theta3) + 1.0*sin(theta3)*cos(theta2)) - 0.213*sin(theta2)*cos(theta3) - 0.213*sin(theta2) - 0.213*sin(theta3)*cos(theta2) + 0.21897],\n",
       "[ 1.0*sin(theta1)*sin(theta2)*cos(theta3) + 1.0*sin(theta1)*sin(theta3)*cos(theta2), 1.0*cos(theta1),  1.0*sin(theta1)*sin(theta2)*sin(theta3) - 1.0*sin(theta1)*cos(theta2)*cos(theta3),   -1.0*root_radius*(1.0*sin(theta1)*sin(theta2)*sin(theta3) - 1.0*sin(theta1)*cos(theta2)*cos(theta3)) - 0.213*sin(theta1)*sin(theta2)*sin(theta3) + 0.213*sin(theta1)*cos(theta2)*cos(theta3) + 0.213*sin(theta1)*cos(theta2) + 0.0955*cos(theta1) + 0.0465],\n",
       "[-1.0*sin(theta2)*cos(theta1)*cos(theta3) - 1.0*sin(theta3)*cos(theta1)*cos(theta2), 1.0*sin(theta1), -1.0*sin(theta2)*sin(theta3)*cos(theta1) + 1.0*cos(theta1)*cos(theta2)*cos(theta3), -1.0*root_radius*(-1.0*sin(theta2)*sin(theta3)*cos(theta1) + 1.0*cos(theta1)*cos(theta2)*cos(theta3)) + 0.0955*sin(theta1) + 0.213*sin(theta2)*sin(theta3)*cos(theta1) - 0.213*cos(theta1)*cos(theta2)*cos(theta3) - 0.213*cos(theta1)*cos(theta2) - 0.04232],\n",
       "[                                                                                 0,               0,                                                                                  0,                                                                                                                                                                                                                                                          1.0]])"
      ]
     },
     "execution_count": 10,
     "metadata": {},
     "output_type": "execute_result"
    }
   ],
   "source": [
    "T_imu_rrfoot = T_imu_1*T1_ef*T_ef_rrfoot\n",
    "T_imu_rrfoot"
   ]
  },
  {
   "cell_type": "code",
   "execution_count": null,
   "metadata": {},
   "outputs": [
    {
     "data": {
      "text/latex": [
       "$\\displaystyle \\left[\\begin{matrix}- 1.0 root_{radius} \\left(1.0 \\sin{\\left(\\theta_{2} \\right)} \\cos{\\left(\\theta_{3} \\right)} + 1.0 \\sin{\\left(\\theta_{3} \\right)} \\cos{\\left(\\theta_{2} \\right)}\\right) - 0.213 \\sin{\\left(\\theta_{2} \\right)} \\cos{\\left(\\theta_{3} \\right)} - 0.213 \\sin{\\left(\\theta_{2} \\right)} - 0.213 \\sin{\\left(\\theta_{3} \\right)} \\cos{\\left(\\theta_{2} \\right)} + 0.21897\\\\- 1.0 root_{radius} \\left(1.0 \\sin{\\left(\\theta_{1} \\right)} \\sin{\\left(\\theta_{2} \\right)} \\sin{\\left(\\theta_{3} \\right)} - 1.0 \\sin{\\left(\\theta_{1} \\right)} \\cos{\\left(\\theta_{2} \\right)} \\cos{\\left(\\theta_{3} \\right)}\\right) - 0.213 \\sin{\\left(\\theta_{1} \\right)} \\sin{\\left(\\theta_{2} \\right)} \\sin{\\left(\\theta_{3} \\right)} + 0.213 \\sin{\\left(\\theta_{1} \\right)} \\cos{\\left(\\theta_{2} \\right)} \\cos{\\left(\\theta_{3} \\right)} + 0.213 \\sin{\\left(\\theta_{1} \\right)} \\cos{\\left(\\theta_{2} \\right)} + 0.0955 \\cos{\\left(\\theta_{1} \\right)} + 0.0465\\\\- 1.0 root_{radius} \\left(- 1.0 \\sin{\\left(\\theta_{2} \\right)} \\sin{\\left(\\theta_{3} \\right)} \\cos{\\left(\\theta_{1} \\right)} + 1.0 \\cos{\\left(\\theta_{1} \\right)} \\cos{\\left(\\theta_{2} \\right)} \\cos{\\left(\\theta_{3} \\right)}\\right) + 0.0955 \\sin{\\left(\\theta_{1} \\right)} + 0.213 \\sin{\\left(\\theta_{2} \\right)} \\sin{\\left(\\theta_{3} \\right)} \\cos{\\left(\\theta_{1} \\right)} - 0.213 \\cos{\\left(\\theta_{1} \\right)} \\cos{\\left(\\theta_{2} \\right)} \\cos{\\left(\\theta_{3} \\right)} - 0.213 \\cos{\\left(\\theta_{1} \\right)} \\cos{\\left(\\theta_{2} \\right)} - 0.04232\\end{matrix}\\right]$"
      ],
      "text/plain": [
       "Matrix([\n",
       "[                                                                                  -1.0*root_radius*(1.0*sin(theta2)*cos(theta3) + 1.0*sin(theta3)*cos(theta2)) - 0.213*sin(theta2)*cos(theta3) - 0.213*sin(theta2) - 0.213*sin(theta3)*cos(theta2) + 0.21897],\n",
       "[  -1.0*root_radius*(1.0*sin(theta1)*sin(theta2)*sin(theta3) - 1.0*sin(theta1)*cos(theta2)*cos(theta3)) - 0.213*sin(theta1)*sin(theta2)*sin(theta3) + 0.213*sin(theta1)*cos(theta2)*cos(theta3) + 0.213*sin(theta1)*cos(theta2) + 0.0955*cos(theta1) + 0.0465],\n",
       "[-1.0*root_radius*(-1.0*sin(theta2)*sin(theta3)*cos(theta1) + 1.0*cos(theta1)*cos(theta2)*cos(theta3)) + 0.0955*sin(theta1) + 0.213*sin(theta2)*sin(theta3)*cos(theta1) - 0.213*cos(theta1)*cos(theta2)*cos(theta3) - 0.213*cos(theta1)*cos(theta2) - 0.04232]])"
      ]
     },
     "execution_count": 19,
     "metadata": {},
     "output_type": "execute_result"
    }
   ],
   "source": [
    "T_imu_rrfoot[:3,3]"
   ]
  },
  {
   "cell_type": "markdown",
   "metadata": {},
   "source": [
    "converting into a function for future use"
   ]
  },
  {
   "cell_type": "code",
   "execution_count": 18,
   "metadata": {},
   "outputs": [],
   "source": [
    "def forward_kinematics(angles, radius=0):\n",
    "    #theta1, theta2, theta3 = np.radians([theta1, theta2, theta3])\n",
    "    theta1 = angles[0]\n",
    "    theta2 = angles[1]\n",
    "    theta3 = angles[2]\n",
    "\n",
    "    x = -radius * (np.sin(theta2) * np.cos(theta3) + np.sin(theta3) * np.cos(theta2)) \\\n",
    "        - 0.213 * np.sin(theta2) * np.cos(theta3) - 0.213 * np.sin(theta2) \\\n",
    "        - 0.213 * np.sin(theta3) * np.cos(theta2) + 0.21897\n",
    "    \n",
    "    y = -radius * (np.sin(theta1) * np.sin(theta2) * np.sin(theta3) - np.sin(theta1) * np.cos(theta2) * np.cos(theta3)) \\\n",
    "        - 0.213 * np.sin(theta1) * np.sin(theta2) * np.sin(theta3) + 0.213 * np.sin(theta1) * np.cos(theta2) * np.cos(theta3) \\\n",
    "        + 0.213 * np.sin(theta1) * np.cos(theta2) + 0.0955 * np.cos(theta1) + 0.0465\n",
    "    \n",
    "    z = -radius * (-np.sin(theta2) * np.sin(theta3) * np.cos(theta1) + np.cos(theta1) * np.cos(theta2) * np.cos(theta3)) \\\n",
    "        + 0.0955 * np.sin(theta1) + 0.213 * np.sin(theta2) * np.sin(theta3) * np.cos(theta1) \\\n",
    "        - 0.213 * np.cos(theta1) * np.cos(theta2) * np.cos(theta3) - 0.213 * np.cos(theta1) * np.cos(theta2) - 0.04232\n",
    "    \n",
    "    return np.array([x, y, z])\n"
   ]
  },
  {
   "cell_type": "markdown",
   "metadata": {},
   "source": [
    "FK using ET"
   ]
  },
  {
   "cell_type": "code",
   "execution_count": 122,
   "metadata": {},
   "outputs": [],
   "source": [
    "    \n",
    "class Go2FK:\n",
    "\n",
    "    def __init__(self) -> None: \n",
    "\n",
    "        ##for fr leg ---------------------------------------------------------\n",
    "\n",
    "        # Define symbolic joint variables\n",
    "        t1, t2, t3, frfoot = sp.symbols('theta1, theta2, theta3, fr_root_radius')\n",
    "        # imu to hip\n",
    "        E1 = rtb.ET.tx(0.21897)\n",
    "        E2 = rtb.ET.ty(-0.0465)\n",
    "        E3 = rtb.ET.tz(-0.04232)\n",
    "        E4 = rtb.ET.Rx(t1)\n",
    "        \n",
    "        #hip to thigh\n",
    "        E5 = rtb.ET.ty(-0.0955)\n",
    "        E6 = rtb.ET.Ry(t2)\n",
    "\n",
    "        #thigh to calf\n",
    "        E7 = rtb.ET.tz(-0.213)\n",
    "        E8 = rtb.ET.Ry(t3)\n",
    "\n",
    "        #calf to foot\n",
    "        E9 = rtb.ET.tz(-0.213)\n",
    "        E10 = rtb.ET.tz(-frfoot)\n",
    "        \n",
    "        self.go2_fr = E1 * E2 * E3 * E4 * E5 * E6 * E7 * E8 * E9 *E10\n",
    "        self.q_fr = [t1, t2, t3, frfoot]\n",
    "\n",
    "        #for fl leg --------------------------------------------------------------\n",
    " \n",
    "        # Define symbolic joint variables\n",
    "        t4, t5, t6, flfoot = sp.symbols('theta4, theta5, theta6, fl_root_radius')\n",
    "        # imu to hip\n",
    "        E1 = rtb.ET.tx(0.21897)\n",
    "        E2 = rtb.ET.ty(0.0465)\n",
    "        E3 = rtb.ET.tz(-0.04232)\n",
    "        E4 = rtb.ET.Rx(t4)\n",
    "        \n",
    "        #hip to thigh\n",
    "        E5 = rtb.ET.ty(0.0955)\n",
    "        E6 = rtb.ET.Ry(t5)\n",
    "\n",
    "        #thigh to calf\n",
    "        E7 = rtb.ET.tz(-0.213)\n",
    "        E8 = rtb.ET.Ry(t6)\n",
    "\n",
    "        #calf to foot\n",
    "        E9 = rtb.ET.tz(-0.213)\n",
    "        E10 = rtb.ET.tz(-flfoot)\n",
    "        \n",
    "        self.go2_fl = E1 * E2 * E3 * E4 * E5 * E6 * E7 * E8 * E9 *E10\n",
    "        self.q_fl = [t4, t5, t6, flfoot]\n",
    "\n",
    "\n",
    "        #for rr leg --------------------------------------------------------------\n",
    " \n",
    "        # Define symbolic joint variables\n",
    "        t7, t8, t9, rrfoot = sp.symbols('theta7, theta8, theta9, rr_root_radius')\n",
    "        # imu to hip\n",
    "        E1 = rtb.ET.tx(-0.16783)\n",
    "        E2 = rtb.ET.ty(-0.0465)\n",
    "        E3 = rtb.ET.tz(-0.04232)\n",
    "        E4 = rtb.ET.Rx(t7)\n",
    "        \n",
    "        #hip to thigh\n",
    "        E5 = rtb.ET.ty(-0.0955)\n",
    "        E6 = rtb.ET.Ry(t8)\n",
    "\n",
    "        #thigh to calf\n",
    "        E7 = rtb.ET.tz(-0.213)\n",
    "        E8 = rtb.ET.Ry(t9)\n",
    "\n",
    "        #calf to foot\n",
    "        E9 = rtb.ET.tz(-0.213)\n",
    "        E10 = rtb.ET.tz(-rrfoot)\n",
    "        \n",
    "        self.go2_rr = E1 * E2 * E3 * E4 * E5 * E6 * E7 * E8 * E9 *E10\n",
    "        self.q_rr = [t7, t8, t9, rrfoot]\n",
    "\n",
    "\n",
    "        #for rl leg --------------------------------------------------------------\n",
    " \n",
    "        # Define symbolic joint variables\n",
    "        t10, t11, t12, rlfoot = sp.symbols('theta10, theta11, theta12, rl_root_radius')\n",
    "        # imu to hip\n",
    "        E1 = rtb.ET.tx(-0.16783)\n",
    "        E2 = rtb.ET.ty(0.0465)\n",
    "        E3 = rtb.ET.tz(-0.04232)\n",
    "        E4 = rtb.ET.Rx(t10)\n",
    "        \n",
    "        #hip to thigh\n",
    "        E5 = rtb.ET.ty(0.0955)\n",
    "        E6 = rtb.ET.Ry(t11)\n",
    "\n",
    "        #thigh to calf\n",
    "        E7 = rtb.ET.tz(-0.213)\n",
    "        E8 = rtb.ET.Ry(t12)\n",
    "\n",
    "        #calf to foot\n",
    "        E9 = rtb.ET.tz(-0.213)\n",
    "        E10 = rtb.ET.tz(-rlfoot)\n",
    "        \n",
    "        self.go2_rl = E1 * E2 * E3 * E4 * E5 * E6 * E7 * E8 * E9 *E10\n",
    "        self.q_rl = [t10, t11, t12, rlfoot]\n",
    "\n",
    "    \n",
    "    def fkine_fr(self):\n",
    "        return self.go2_fr.eval(self.q_fr)\n",
    "    \n",
    "    def fkine_fl(self):\n",
    "        return self.go2_fl.eval(self.q_fl)\n",
    "    \n",
    "    def fkine_rr(self):\n",
    "        return self.go2_rr.eval(self.q_rr)\n",
    "    \n",
    "    def fkine_rl(self):\n",
    "        return self.go2_rl.eval(self.q_rl)"
   ]
  },
  {
   "cell_type": "code",
   "execution_count": 123,
   "metadata": {},
   "outputs": [],
   "source": [
    "# Create instance\n",
    "robot = Go2FK()\n",
    "\n",
    "# Get symbolic transformation matrix\n",
    "T_symbolic_fr = sp.Matrix(robot.fkine_fr())\n",
    "# Display the symbolic transformation matrix\n",
    "pos_fr = sp.simplify(T_symbolic_fr[:3,3])\n",
    "\n",
    "# Get symbolic transformation matrix\n",
    "T_symbolic_fl = sp.Matrix(robot.fkine_fl())\n",
    "# Display the symbolic transformation matrix\n",
    "pos_fl = sp.simplify(T_symbolic_fl[:3,3])\n",
    "\n",
    "# Get symbolic transformation matrix\n",
    "T_symbolic_rr = sp.Matrix(robot.fkine_rr())\n",
    "# Display the symbolic transformation matrix\n",
    "pos_rr = sp.simplify(T_symbolic_rr[:3,3])\n",
    "\n",
    "# Get symbolic transformation matrix\n",
    "T_symbolic_rl = sp.Matrix(robot.fkine_rl())\n",
    "# Display the symbolic transformation matrix\n",
    "pos_rl = sp.simplify(T_symbolic_rl[:3,3])"
   ]
  },
  {
   "cell_type": "code",
   "execution_count": 124,
   "metadata": {},
   "outputs": [
    {
     "data": {
      "text/plain": [
       "[theta1, theta2, theta3]"
      ]
     },
     "execution_count": 124,
     "metadata": {},
     "output_type": "execute_result"
    }
   ],
   "source": [
    "robot.q_fr[:3]"
   ]
  },
  {
   "cell_type": "code",
   "execution_count": 125,
   "metadata": {},
   "outputs": [
    {
     "data": {
      "text/plain": [
       "array([[-1.0*fr_root_radius*sin(theta2 + theta3) - 0.213*sin(theta2) - 0.213*sin(theta2 + theta3) + 0.21897],\n",
       "       [1.0*(1.0*fr_root_radius*cos(theta2 + theta3) + 0.213*cos(theta2) + 0.213*cos(theta2 + theta3))*sin(theta1) - 0.0955*cos(theta1) - 0.0465],\n",
       "       [-1.0*(1.0*fr_root_radius*cos(theta2 + theta3) + 0.213*cos(theta2) + 0.213*cos(theta2 + theta3))*cos(theta1) - 0.0955*sin(theta1) - 0.04232]],\n",
       "      dtype=object)"
      ]
     },
     "execution_count": 125,
     "metadata": {},
     "output_type": "execute_result"
    }
   ],
   "source": [
    "# Define the joint angle vector θ\n",
    "θ_fr = sp.Matrix(robot.q_fr[:3])\n",
    "# Compute the Jacobian: J = ∂p/∂θ\n",
    "J_fr = pos_fr.jacobian(θ_fr)\n",
    "# Display the Jacobian\n",
    "\n",
    "np.array(pos_fr)"
   ]
  },
  {
   "cell_type": "code",
   "execution_count": 126,
   "metadata": {},
   "outputs": [
    {
     "data": {
      "text/plain": [
       "array([[0,\n",
       "        -1.0*fr_root_radius*cos(theta2 + theta3) - 0.213*cos(theta2) - 0.213*cos(theta2 + theta3),\n",
       "        -1.0*fr_root_radius*cos(theta2 + theta3) - 0.213*cos(theta2 + theta3)],\n",
       "       [1.0*(1.0*fr_root_radius*cos(theta2 + theta3) + 0.213*cos(theta2) + 0.213*cos(theta2 + theta3))*cos(theta1) + 0.0955*sin(theta1),\n",
       "        1.0*(-1.0*fr_root_radius*sin(theta2 + theta3) - 0.213*sin(theta2) - 0.213*sin(theta2 + theta3))*sin(theta1),\n",
       "        1.0*(-1.0*fr_root_radius*sin(theta2 + theta3) - 0.213*sin(theta2 + theta3))*sin(theta1)],\n",
       "       [1.0*(1.0*fr_root_radius*cos(theta2 + theta3) + 0.213*cos(theta2) + 0.213*cos(theta2 + theta3))*sin(theta1) - 0.0955*cos(theta1),\n",
       "        -1.0*(-1.0*fr_root_radius*sin(theta2 + theta3) - 0.213*sin(theta2) - 0.213*sin(theta2 + theta3))*cos(theta1),\n",
       "        -1.0*(-1.0*fr_root_radius*sin(theta2 + theta3) - 0.213*sin(theta2 + theta3))*cos(theta1)]],\n",
       "      dtype=object)"
      ]
     },
     "execution_count": 126,
     "metadata": {},
     "output_type": "execute_result"
    }
   ],
   "source": [
    "np.array(J_fr)"
   ]
  },
  {
   "cell_type": "code",
   "execution_count": 127,
   "metadata": {},
   "outputs": [
    {
     "data": {
      "text/plain": [
       "array([[-1.0*fl_root_radius*sin(theta5 + theta6) - 0.213*sin(theta5) - 0.213*sin(theta5 + theta6) + 0.21897],\n",
       "       [1.0*(1.0*fl_root_radius*cos(theta5 + theta6) + 0.213*cos(theta5) + 0.213*cos(theta5 + theta6))*sin(theta4) + 0.0955*cos(theta4) + 0.0465],\n",
       "       [-1.0*(1.0*fl_root_radius*cos(theta5 + theta6) + 0.213*cos(theta5) + 0.213*cos(theta5 + theta6))*cos(theta4) + 0.0955*sin(theta4) - 0.04232]],\n",
       "      dtype=object)"
      ]
     },
     "execution_count": 127,
     "metadata": {},
     "output_type": "execute_result"
    }
   ],
   "source": [
    "# Define the joint angle vector θ\n",
    "θ_fl = sp.Matrix(robot.q_fl[:3])\n",
    "# Compute the Jacobian: J = ∂p/∂θ\n",
    "J_fl = pos_fl.jacobian(θ_fl)\n",
    "# Display the Jacobian\n",
    "\n",
    "np.array(pos_fl)\n"
   ]
  },
  {
   "cell_type": "code",
   "execution_count": 128,
   "metadata": {},
   "outputs": [
    {
     "data": {
      "text/plain": [
       "array([[0,\n",
       "        -1.0*fl_root_radius*cos(theta5 + theta6) - 0.213*cos(theta5) - 0.213*cos(theta5 + theta6),\n",
       "        -1.0*fl_root_radius*cos(theta5 + theta6) - 0.213*cos(theta5 + theta6)],\n",
       "       [1.0*(1.0*fl_root_radius*cos(theta5 + theta6) + 0.213*cos(theta5) + 0.213*cos(theta5 + theta6))*cos(theta4) - 0.0955*sin(theta4),\n",
       "        1.0*(-1.0*fl_root_radius*sin(theta5 + theta6) - 0.213*sin(theta5) - 0.213*sin(theta5 + theta6))*sin(theta4),\n",
       "        1.0*(-1.0*fl_root_radius*sin(theta5 + theta6) - 0.213*sin(theta5 + theta6))*sin(theta4)],\n",
       "       [1.0*(1.0*fl_root_radius*cos(theta5 + theta6) + 0.213*cos(theta5) + 0.213*cos(theta5 + theta6))*sin(theta4) + 0.0955*cos(theta4),\n",
       "        -1.0*(-1.0*fl_root_radius*sin(theta5 + theta6) - 0.213*sin(theta5) - 0.213*sin(theta5 + theta6))*cos(theta4),\n",
       "        -1.0*(-1.0*fl_root_radius*sin(theta5 + theta6) - 0.213*sin(theta5 + theta6))*cos(theta4)]],\n",
       "      dtype=object)"
      ]
     },
     "execution_count": 128,
     "metadata": {},
     "output_type": "execute_result"
    }
   ],
   "source": [
    "np.array(J_fl)"
   ]
  },
  {
   "cell_type": "code",
   "execution_count": 129,
   "metadata": {},
   "outputs": [
    {
     "data": {
      "text/plain": [
       "array([[-1.0*rr_root_radius*sin(theta8 + theta9) - 0.213*sin(theta8) - 0.213*sin(theta8 + theta9) - 0.16783],\n",
       "       [1.0*(1.0*rr_root_radius*cos(theta8 + theta9) + 0.213*cos(theta8) + 0.213*cos(theta8 + theta9))*sin(theta7) - 0.0955*cos(theta7) - 0.0465],\n",
       "       [-1.0*(1.0*rr_root_radius*cos(theta8 + theta9) + 0.213*cos(theta8) + 0.213*cos(theta8 + theta9))*cos(theta7) - 0.0955*sin(theta7) - 0.04232]],\n",
       "      dtype=object)"
      ]
     },
     "execution_count": 129,
     "metadata": {},
     "output_type": "execute_result"
    }
   ],
   "source": [
    "# Define the joint angle vector θ\n",
    "θ_rr = sp.Matrix(robot.q_rr[:3])\n",
    "# Compute the Jacobian: J = ∂p/∂θ\n",
    "J_rr = pos_rr.jacobian(θ_rr)\n",
    "# Display the Jacobian\n",
    "\n",
    "np.array(pos_rr)\n"
   ]
  },
  {
   "cell_type": "code",
   "execution_count": 130,
   "metadata": {},
   "outputs": [
    {
     "data": {
      "text/plain": [
       "array([[0,\n",
       "        -1.0*rr_root_radius*cos(theta8 + theta9) - 0.213*cos(theta8) - 0.213*cos(theta8 + theta9),\n",
       "        -1.0*rr_root_radius*cos(theta8 + theta9) - 0.213*cos(theta8 + theta9)],\n",
       "       [1.0*(1.0*rr_root_radius*cos(theta8 + theta9) + 0.213*cos(theta8) + 0.213*cos(theta8 + theta9))*cos(theta7) + 0.0955*sin(theta7),\n",
       "        1.0*(-1.0*rr_root_radius*sin(theta8 + theta9) - 0.213*sin(theta8) - 0.213*sin(theta8 + theta9))*sin(theta7),\n",
       "        1.0*(-1.0*rr_root_radius*sin(theta8 + theta9) - 0.213*sin(theta8 + theta9))*sin(theta7)],\n",
       "       [1.0*(1.0*rr_root_radius*cos(theta8 + theta9) + 0.213*cos(theta8) + 0.213*cos(theta8 + theta9))*sin(theta7) - 0.0955*cos(theta7),\n",
       "        -1.0*(-1.0*rr_root_radius*sin(theta8 + theta9) - 0.213*sin(theta8) - 0.213*sin(theta8 + theta9))*cos(theta7),\n",
       "        -1.0*(-1.0*rr_root_radius*sin(theta8 + theta9) - 0.213*sin(theta8 + theta9))*cos(theta7)]],\n",
       "      dtype=object)"
      ]
     },
     "execution_count": 130,
     "metadata": {},
     "output_type": "execute_result"
    }
   ],
   "source": [
    "np.array(J_rr)"
   ]
  },
  {
   "cell_type": "code",
   "execution_count": 132,
   "metadata": {},
   "outputs": [
    {
     "data": {
      "text/plain": [
       "array([[0,\n",
       "        -1.0*rl_root_radius*cos(theta11 + theta12) - 0.213*cos(theta11) - 0.213*cos(theta11 + theta12),\n",
       "        -1.0*rl_root_radius*cos(theta11 + theta12) - 0.213*cos(theta11 + theta12)],\n",
       "       [1.0*(1.0*rl_root_radius*cos(theta11 + theta12) + 0.213*cos(theta11) + 0.213*cos(theta11 + theta12))*cos(theta10) - 0.0955*sin(theta10),\n",
       "        1.0*(-1.0*rl_root_radius*sin(theta11 + theta12) - 0.213*sin(theta11) - 0.213*sin(theta11 + theta12))*sin(theta10),\n",
       "        1.0*(-1.0*rl_root_radius*sin(theta11 + theta12) - 0.213*sin(theta11 + theta12))*sin(theta10)],\n",
       "       [1.0*(1.0*rl_root_radius*cos(theta11 + theta12) + 0.213*cos(theta11) + 0.213*cos(theta11 + theta12))*sin(theta10) + 0.0955*cos(theta10),\n",
       "        -1.0*(-1.0*rl_root_radius*sin(theta11 + theta12) - 0.213*sin(theta11) - 0.213*sin(theta11 + theta12))*cos(theta10),\n",
       "        -1.0*(-1.0*rl_root_radius*sin(theta11 + theta12) - 0.213*sin(theta11 + theta12))*cos(theta10)]],\n",
       "      dtype=object)"
      ]
     },
     "execution_count": 132,
     "metadata": {},
     "output_type": "execute_result"
    }
   ],
   "source": [
    "# Define the joint angle vector θ\n",
    "θ_rl = sp.Matrix(robot.q_rl[:3])\n",
    "# Compute the Jacobian: J = ∂p/∂θ\n",
    "J_rl = pos_rl.jacobian(θ_rl)\n",
    "# Display the Jacobian\n",
    "np.array(J_rl)"
   ]
  },
  {
   "cell_type": "code",
   "execution_count": null,
   "metadata": {},
   "outputs": [],
   "source": [
    "np.array(pos_rl)"
   ]
  },
  {
   "cell_type": "markdown",
   "metadata": {},
   "source": [
    "FK for UR5 reduced"
   ]
  },
  {
   "cell_type": "code",
   "execution_count": null,
   "metadata": {},
   "outputs": [],
   "source": [
    "import sympy as sp\n",
    "import numpy as np\n",
    "\n",
    "def dh_transformation(theta, alpha, r, d):\n",
    "    \"\"\"\n",
    "    Compute the Denavit-Hartenberg transformation matrix.\n",
    "    \n",
    "    Parameters:\n",
    "        theta (symbol/float): Joint angle (rotation about z-axis)\n",
    "        alpha (symbol/float): Link twist (rotation about x-axis)\n",
    "        r (symbol/float): Link length (translation along x-axis)\n",
    "        d (symbol/float): Link offset (translation along z-axis)\n",
    "    \n",
    "    Returns:\n",
    "        sympy.Matrix: The 4x4 DH transformation matrix\n",
    "    \"\"\"\n",
    "    T = sp.Matrix([\n",
    "        [sp.cos(theta), -sp.sin(theta) * sp.cos(alpha), sp.sin(theta) * sp.sin(alpha), r * sp.cos(theta)],\n",
    "        [sp.sin(theta), sp.cos(theta) * sp.cos(alpha), -sp.cos(theta) * sp.sin(alpha), r * sp.sin(theta)],\n",
    "        [0, sp.sin(alpha), sp.cos(alpha), d],\n",
    "        [0, 0, 0, 1]\n",
    "    ])\n",
    "    \n",
    "    return T\n",
    "\n",
    "# Example evaluation with given values\n",
    "t1, t2, t3, alpha, r, d = sp.symbols('theta1, theta2, theta3, alpha r d')\n",
    "T1_2 = dh_transformation(t1, sp.rad(-90), d=0.163, r=0)\n",
    "T2_3 = dh_transformation(t2, 0, d=0, r=0.425)\n",
    "T3_rf = dh_transformation(t3, 0, d=0, r=0.392)"
   ]
  },
  {
   "cell_type": "code",
   "execution_count": 15,
   "metadata": {},
   "outputs": [
    {
     "data": {
      "text/latex": [
       "$\\displaystyle \\left[\\begin{matrix}1.0 \\sin{\\left(\\theta_{2} \\right)} \\sin{\\left(\\theta_{3} \\right)} \\cos{\\left(\\theta_{1} \\right)} + 1.2246468 \\cdot 10^{-16} \\sin{\\left(\\theta_{2} \\right)} \\cos{\\left(\\theta_{1} \\right)} \\cos{\\left(\\theta_{3} \\right)} + 1.2246468 \\cdot 10^{-16} \\sin{\\left(\\theta_{3} \\right)} \\cos{\\left(\\theta_{1} \\right)} \\cos{\\left(\\theta_{2} \\right)} - 1.0 \\cos{\\left(\\theta_{1} \\right)} \\cos{\\left(\\theta_{2} \\right)} \\cos{\\left(\\theta_{3} \\right)} & - 1.2246468 \\cdot 10^{-16} \\sin{\\left(\\theta_{2} \\right)} \\sin{\\left(\\theta_{3} \\right)} \\cos{\\left(\\theta_{1} \\right)} + 1.0 \\sin{\\left(\\theta_{2} \\right)} \\cos{\\left(\\theta_{1} \\right)} \\cos{\\left(\\theta_{3} \\right)} + 1.0 \\sin{\\left(\\theta_{3} \\right)} \\cos{\\left(\\theta_{1} \\right)} \\cos{\\left(\\theta_{2} \\right)} + 1.2246468 \\cdot 10^{-16} \\cos{\\left(\\theta_{1} \\right)} \\cos{\\left(\\theta_{2} \\right)} \\cos{\\left(\\theta_{3} \\right)} & - 1.0 \\sin{\\left(\\theta_{1} \\right)} & - 0.1 \\sin{\\left(\\theta_{1} \\right)} - 0.392 \\sin{\\left(\\theta_{2} \\right)} \\sin{\\left(\\theta_{3} \\right)} \\cos{\\left(\\theta_{1} \\right)} + 0.392 \\cos{\\left(\\theta_{1} \\right)} \\cos{\\left(\\theta_{2} \\right)} \\cos{\\left(\\theta_{3} \\right)} + 0.425 \\cos{\\left(\\theta_{1} \\right)} \\cos{\\left(\\theta_{2} \\right)}\\\\1.0 \\sin{\\left(\\theta_{1} \\right)} \\sin{\\left(\\theta_{2} \\right)} \\sin{\\left(\\theta_{3} \\right)} + 1.2246468 \\cdot 10^{-16} \\sin{\\left(\\theta_{1} \\right)} \\sin{\\left(\\theta_{2} \\right)} \\cos{\\left(\\theta_{3} \\right)} + 1.2246468 \\cdot 10^{-16} \\sin{\\left(\\theta_{1} \\right)} \\sin{\\left(\\theta_{3} \\right)} \\cos{\\left(\\theta_{2} \\right)} - 1.0 \\sin{\\left(\\theta_{1} \\right)} \\cos{\\left(\\theta_{2} \\right)} \\cos{\\left(\\theta_{3} \\right)} & - 1.2246468 \\cdot 10^{-16} \\sin{\\left(\\theta_{1} \\right)} \\sin{\\left(\\theta_{2} \\right)} \\sin{\\left(\\theta_{3} \\right)} + 1.0 \\sin{\\left(\\theta_{1} \\right)} \\sin{\\left(\\theta_{2} \\right)} \\cos{\\left(\\theta_{3} \\right)} + 1.0 \\sin{\\left(\\theta_{1} \\right)} \\sin{\\left(\\theta_{3} \\right)} \\cos{\\left(\\theta_{2} \\right)} + 1.2246468 \\cdot 10^{-16} \\sin{\\left(\\theta_{1} \\right)} \\cos{\\left(\\theta_{2} \\right)} \\cos{\\left(\\theta_{3} \\right)} & 1.0 \\cos{\\left(\\theta_{1} \\right)} & - 0.392 \\sin{\\left(\\theta_{1} \\right)} \\sin{\\left(\\theta_{2} \\right)} \\sin{\\left(\\theta_{3} \\right)} + 0.392 \\sin{\\left(\\theta_{1} \\right)} \\cos{\\left(\\theta_{2} \\right)} \\cos{\\left(\\theta_{3} \\right)} + 0.425 \\sin{\\left(\\theta_{1} \\right)} \\cos{\\left(\\theta_{2} \\right)} + 0.1 \\cos{\\left(\\theta_{1} \\right)}\\\\- 1.2246468 \\cdot 10^{-16} \\sin{\\left(\\theta_{2} \\right)} \\sin{\\left(\\theta_{3} \\right)} + 1.0 \\sin{\\left(\\theta_{2} \\right)} \\cos{\\left(\\theta_{3} \\right)} + 1.0 \\sin{\\left(\\theta_{3} \\right)} \\cos{\\left(\\theta_{2} \\right)} + 1.2246468 \\cdot 10^{-16} \\cos{\\left(\\theta_{2} \\right)} \\cos{\\left(\\theta_{3} \\right)} & - 1.0 \\sin{\\left(\\theta_{2} \\right)} \\sin{\\left(\\theta_{3} \\right)} - 1.2246468 \\cdot 10^{-16} \\sin{\\left(\\theta_{2} \\right)} \\cos{\\left(\\theta_{3} \\right)} - 1.2246468 \\cdot 10^{-16} \\sin{\\left(\\theta_{3} \\right)} \\cos{\\left(\\theta_{2} \\right)} + 1.0 \\cos{\\left(\\theta_{2} \\right)} \\cos{\\left(\\theta_{3} \\right)} & 0 & - 0.392 \\sin{\\left(\\theta_{2} \\right)} \\cos{\\left(\\theta_{3} \\right)} - 0.425 \\sin{\\left(\\theta_{2} \\right)} - 0.392 \\sin{\\left(\\theta_{3} \\right)} \\cos{\\left(\\theta_{2} \\right)} + 0.163\\\\0 & 0 & 0 & 1.0\\end{matrix}\\right]$"
      ],
      "text/plain": [
       "Matrix([\n",
       "[1.0*sin(theta2)*sin(theta3)*cos(theta1) + 1.2246468e-16*sin(theta2)*cos(theta1)*cos(theta3) + 1.2246468e-16*sin(theta3)*cos(theta1)*cos(theta2) - 1.0*cos(theta1)*cos(theta2)*cos(theta3), -1.2246468e-16*sin(theta2)*sin(theta3)*cos(theta1) + 1.0*sin(theta2)*cos(theta1)*cos(theta3) + 1.0*sin(theta3)*cos(theta1)*cos(theta2) + 1.2246468e-16*cos(theta1)*cos(theta2)*cos(theta3), -1.0*sin(theta1), -0.1*sin(theta1) - 0.392*sin(theta2)*sin(theta3)*cos(theta1) + 0.392*cos(theta1)*cos(theta2)*cos(theta3) + 0.425*cos(theta1)*cos(theta2)],\n",
       "[1.0*sin(theta1)*sin(theta2)*sin(theta3) + 1.2246468e-16*sin(theta1)*sin(theta2)*cos(theta3) + 1.2246468e-16*sin(theta1)*sin(theta3)*cos(theta2) - 1.0*sin(theta1)*cos(theta2)*cos(theta3), -1.2246468e-16*sin(theta1)*sin(theta2)*sin(theta3) + 1.0*sin(theta1)*sin(theta2)*cos(theta3) + 1.0*sin(theta1)*sin(theta3)*cos(theta2) + 1.2246468e-16*sin(theta1)*cos(theta2)*cos(theta3),  1.0*cos(theta1), -0.392*sin(theta1)*sin(theta2)*sin(theta3) + 0.392*sin(theta1)*cos(theta2)*cos(theta3) + 0.425*sin(theta1)*cos(theta2) + 0.1*cos(theta1)],\n",
       "[                                               -1.2246468e-16*sin(theta2)*sin(theta3) + 1.0*sin(theta2)*cos(theta3) + 1.0*sin(theta3)*cos(theta2) + 1.2246468e-16*cos(theta2)*cos(theta3),                                                 -1.0*sin(theta2)*sin(theta3) - 1.2246468e-16*sin(theta2)*cos(theta3) - 1.2246468e-16*sin(theta3)*cos(theta2) + 1.0*cos(theta2)*cos(theta3),                0,                                               -0.392*sin(theta2)*cos(theta3) - 0.425*sin(theta2) - 0.392*sin(theta3)*cos(theta2) + 0.163],\n",
       "[                                                                                                                                                                                        0,                                                                                                                                                                                          0,                0,                                                                                                                                      1.0]])"
      ]
     },
     "execution_count": 15,
     "metadata": {},
     "output_type": "execute_result"
    }
   ],
   "source": [
    "Ta_ef = np.array([[-1.0000000e+00,  1.2246468e-16,  0.0000000e+00,  0.0000000e+00],\n",
    "       [-1.2246468e-16, -1.0000000e+00,  0.0000000e+00,  0.0000000e+00],\n",
    "       [ 0.0000000e+00,  0.0000000e+00,  1.0000000e+00,  1.0000000e-01],\n",
    "       [ 0.0000000e+00,  0.0000000e+00,  0.0000000e+00,  1.0000000e+00]])\n",
    "\n",
    "\n",
    "\n",
    "T1_rf = T1_2*T2_3*T3_rf*Ta_ef\n",
    "T1_rf"
   ]
  },
  {
   "cell_type": "code",
   "execution_count": 16,
   "metadata": {},
   "outputs": [
    {
     "data": {
      "text/latex": [
       "$\\displaystyle \\left[\\begin{matrix}- 0.1 \\sin{\\left(\\theta_{1} \\right)} - 0.392 \\sin{\\left(\\theta_{2} \\right)} \\sin{\\left(\\theta_{3} \\right)} \\cos{\\left(\\theta_{1} \\right)} + 0.392 \\cos{\\left(\\theta_{1} \\right)} \\cos{\\left(\\theta_{2} \\right)} \\cos{\\left(\\theta_{3} \\right)} + 0.425 \\cos{\\left(\\theta_{1} \\right)} \\cos{\\left(\\theta_{2} \\right)}\\\\- 0.392 \\sin{\\left(\\theta_{1} \\right)} \\sin{\\left(\\theta_{2} \\right)} \\sin{\\left(\\theta_{3} \\right)} + 0.392 \\sin{\\left(\\theta_{1} \\right)} \\cos{\\left(\\theta_{2} \\right)} \\cos{\\left(\\theta_{3} \\right)} + 0.425 \\sin{\\left(\\theta_{1} \\right)} \\cos{\\left(\\theta_{2} \\right)} + 0.1 \\cos{\\left(\\theta_{1} \\right)}\\\\- 0.392 \\sin{\\left(\\theta_{2} \\right)} \\cos{\\left(\\theta_{3} \\right)} - 0.425 \\sin{\\left(\\theta_{2} \\right)} - 0.392 \\sin{\\left(\\theta_{3} \\right)} \\cos{\\left(\\theta_{2} \\right)} + 0.163\\end{matrix}\\right]$"
      ],
      "text/plain": [
       "Matrix([\n",
       "[-0.1*sin(theta1) - 0.392*sin(theta2)*sin(theta3)*cos(theta1) + 0.392*cos(theta1)*cos(theta2)*cos(theta3) + 0.425*cos(theta1)*cos(theta2)],\n",
       "[-0.392*sin(theta1)*sin(theta2)*sin(theta3) + 0.392*sin(theta1)*cos(theta2)*cos(theta3) + 0.425*sin(theta1)*cos(theta2) + 0.1*cos(theta1)],\n",
       "[                                              -0.392*sin(theta2)*cos(theta3) - 0.425*sin(theta2) - 0.392*sin(theta3)*cos(theta2) + 0.163]])"
      ]
     },
     "execution_count": 16,
     "metadata": {},
     "output_type": "execute_result"
    }
   ],
   "source": [
    "T1_rf[:3,3]"
   ]
  },
  {
   "cell_type": "code",
   "execution_count": 17,
   "metadata": {},
   "outputs": [
    {
     "name": "stdout",
     "output_type": "stream",
     "text": [
      "[0.817 0.    0.163]\n"
     ]
    }
   ],
   "source": [
    "import numpy as np\n",
    "\n",
    "def forward_kinematics_np(t1, t2, t3):\n",
    "    \"\"\"Compute the forward kinematics transformation.\"\"\"\n",
    "    \n",
    "    x = -0.392 * np.sin(t2) * np.sin(t3) * np.cos(t1) + 0.392 * np.cos(t1) * np.cos(t2) * np.cos(t3) + 0.425 * np.cos(t1) * np.cos(t2)\n",
    "    y = -0.392 * np.sin(t1) * np.sin(t2) * np.sin(t3) + 0.392 * np.sin(t1) * np.cos(t2) * np.cos(t3) + 0.425 * np.sin(t1) * np.cos(t2)\n",
    "    z = -0.392 * np.sin(t2) * np.cos(t3) - 0.425 * np.sin(t2) - 0.392 * np.sin(t3) * np.cos(t2) + 0.163\n",
    "    \n",
    "    return np.array([x, y, z])\n",
    "\n",
    "# Example usage:\n",
    "t1, t2, t3 = np.radians([0, 0, 0])  # Convert degrees to radians\n",
    "position = forward_kinematics_np(t1, t2, t3)\n",
    "print(position)\n"
   ]
  },
  {
   "cell_type": "code",
   "execution_count": null,
   "metadata": {},
   "outputs": [],
   "source": []
  }
 ],
 "metadata": {
  "kernelspec": {
   "display_name": "mujoco_py",
   "language": "python",
   "name": "python3"
  },
  "language_info": {
   "codemirror_mode": {
    "name": "ipython",
    "version": 3
   },
   "file_extension": ".py",
   "mimetype": "text/x-python",
   "name": "python",
   "nbconvert_exporter": "python",
   "pygments_lexer": "ipython3",
   "version": "3.8.18"
  }
 },
 "nbformat": 4,
 "nbformat_minor": 2
}
