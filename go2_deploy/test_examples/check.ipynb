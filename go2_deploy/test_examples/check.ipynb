{
 "cells": [
  {
   "cell_type": "code",
   "execution_count": 2,
   "metadata": {},
   "outputs": [],
   "source": [
    "import numpy as np"
   ]
  },
  {
   "cell_type": "code",
   "execution_count": 32,
   "metadata": {},
   "outputs": [],
   "source": [
    "npt = 100\n",
    "\n",
    "joint_init = np.array([-2.68, 90])\n",
    "joint_final = np.array([-0.875, 135])\n",
    "\n",
    "traj_jnt_shoulder_1 = np.linspace(joint_init[0], joint_final[0], npt, endpoint=True) #npt is no of points ex:100\n",
    "traj_jnt_shoulder_2 = np.linspace(joint_init[1], joint_final[1], npt, endpoint=True) #npt is no of points ex:100"
   ]
  },
  {
   "cell_type": "code",
   "execution_count": 33,
   "metadata": {},
   "outputs": [
    {
     "data": {
      "text/plain": [
       "array([-153.5526891 , 5156.62015618])"
      ]
     },
     "execution_count": 33,
     "metadata": {},
     "output_type": "execute_result"
    }
   ],
   "source": [
    "joint_init*180/np.pi"
   ]
  },
  {
   "cell_type": "code",
   "execution_count": 34,
   "metadata": {},
   "outputs": [
    {
     "data": {
      "text/plain": [
       "array([ -50.13380707, 7734.93023427])"
      ]
     },
     "execution_count": 34,
     "metadata": {},
     "output_type": "execute_result"
    }
   ],
   "source": [
    "joint_final*180/np.pi"
   ]
  },
  {
   "cell_type": "code",
   "execution_count": 35,
   "metadata": {},
   "outputs": [
    {
     "data": {
      "text/plain": [
       "array([-2.68      , -2.66176768, -2.64353535, -2.62530303, -2.60707071,\n",
       "       -2.58883838, -2.57060606, -2.55237374, -2.53414141, -2.51590909,\n",
       "       -2.49767677, -2.47944444, -2.46121212, -2.4429798 , -2.42474747,\n",
       "       -2.40651515, -2.38828283, -2.37005051, -2.35181818, -2.33358586,\n",
       "       -2.31535354, -2.29712121, -2.27888889, -2.26065657, -2.24242424,\n",
       "       -2.22419192, -2.2059596 , -2.18772727, -2.16949495, -2.15126263,\n",
       "       -2.1330303 , -2.11479798, -2.09656566, -2.07833333, -2.06010101,\n",
       "       -2.04186869, -2.02363636, -2.00540404, -1.98717172, -1.96893939,\n",
       "       -1.95070707, -1.93247475, -1.91424242, -1.8960101 , -1.87777778,\n",
       "       -1.85954545, -1.84131313, -1.82308081, -1.80484848, -1.78661616,\n",
       "       -1.76838384, -1.75015152, -1.73191919, -1.71368687, -1.69545455,\n",
       "       -1.67722222, -1.6589899 , -1.64075758, -1.62252525, -1.60429293,\n",
       "       -1.58606061, -1.56782828, -1.54959596, -1.53136364, -1.51313131,\n",
       "       -1.49489899, -1.47666667, -1.45843434, -1.44020202, -1.4219697 ,\n",
       "       -1.40373737, -1.38550505, -1.36727273, -1.3490404 , -1.33080808,\n",
       "       -1.31257576, -1.29434343, -1.27611111, -1.25787879, -1.23964646,\n",
       "       -1.22141414, -1.20318182, -1.18494949, -1.16671717, -1.14848485,\n",
       "       -1.13025253, -1.1120202 , -1.09378788, -1.07555556, -1.05732323,\n",
       "       -1.03909091, -1.02085859, -1.00262626, -0.98439394, -0.96616162,\n",
       "       -0.94792929, -0.92969697, -0.91146465, -0.89323232, -0.875     ])"
      ]
     },
     "execution_count": 35,
     "metadata": {},
     "output_type": "execute_result"
    }
   ],
   "source": [
    "traj_jnt_shoulder_1"
   ]
  },
  {
   "cell_type": "code",
   "execution_count": 16,
   "metadata": {},
   "outputs": [
    {
     "data": {
      "text/plain": [
       "array([ 90.        ,  90.45454545,  90.90909091,  91.36363636,\n",
       "        91.81818182,  92.27272727,  92.72727273,  93.18181818,\n",
       "        93.63636364,  94.09090909,  94.54545455,  95.        ,\n",
       "        95.45454545,  95.90909091,  96.36363636,  96.81818182,\n",
       "        97.27272727,  97.72727273,  98.18181818,  98.63636364,\n",
       "        99.09090909,  99.54545455, 100.        , 100.45454545,\n",
       "       100.90909091, 101.36363636, 101.81818182, 102.27272727,\n",
       "       102.72727273, 103.18181818, 103.63636364, 104.09090909,\n",
       "       104.54545455, 105.        , 105.45454545, 105.90909091,\n",
       "       106.36363636, 106.81818182, 107.27272727, 107.72727273,\n",
       "       108.18181818, 108.63636364, 109.09090909, 109.54545455,\n",
       "       110.        , 110.45454545, 110.90909091, 111.36363636,\n",
       "       111.81818182, 112.27272727, 112.72727273, 113.18181818,\n",
       "       113.63636364, 114.09090909, 114.54545455, 115.        ,\n",
       "       115.45454545, 115.90909091, 116.36363636, 116.81818182,\n",
       "       117.27272727, 117.72727273, 118.18181818, 118.63636364,\n",
       "       119.09090909, 119.54545455, 120.        , 120.45454545,\n",
       "       120.90909091, 121.36363636, 121.81818182, 122.27272727,\n",
       "       122.72727273, 123.18181818, 123.63636364, 124.09090909,\n",
       "       124.54545455, 125.        , 125.45454545, 125.90909091,\n",
       "       126.36363636, 126.81818182, 127.27272727, 127.72727273,\n",
       "       128.18181818, 128.63636364, 129.09090909, 129.54545455,\n",
       "       130.        , 130.45454545, 130.90909091, 131.36363636,\n",
       "       131.81818182, 132.27272727, 132.72727273, 133.18181818,\n",
       "       133.63636364, 134.09090909, 134.54545455, 135.        ])"
      ]
     },
     "execution_count": 16,
     "metadata": {},
     "output_type": "execute_result"
    }
   ],
   "source": [
    "traj_jnt_shoulder_2"
   ]
  },
  {
   "cell_type": "code",
   "execution_count": 36,
   "metadata": {},
   "outputs": [],
   "source": [
    " # move to default pos\n",
    "num_step = 100\n",
    "joint_traj = []\n",
    "init_dof_pos = [-0.857, 0.105]\n",
    "target_pos = -1.8\n",
    "\n",
    "for i in range(num_step):\n",
    "    alpha = i / num_step\n",
    "    #for j in range(dof_size): #comment to only move calf_FL\n",
    "    j = 0\n",
    "    joint_traj.append(init_dof_pos[j] * (1 - alpha) + target_pos * alpha)"
   ]
  },
  {
   "cell_type": "code",
   "execution_count": 37,
   "metadata": {},
   "outputs": [
    {
     "data": {
      "text/plain": [
       "[-0.857,\n",
       " -0.86643,\n",
       " -0.87586,\n",
       " -0.88529,\n",
       " -0.89472,\n",
       " -0.9041499999999999,\n",
       " -0.91358,\n",
       " -0.9230099999999999,\n",
       " -0.93244,\n",
       " -0.9418700000000001,\n",
       " -0.9513,\n",
       " -0.9607300000000001,\n",
       " -0.9701599999999999,\n",
       " -0.97959,\n",
       " -0.98902,\n",
       " -0.99845,\n",
       " -1.00788,\n",
       " -1.0173100000000002,\n",
       " -1.02674,\n",
       " -1.03617,\n",
       " -1.0456,\n",
       " -1.05503,\n",
       " -1.06446,\n",
       " -1.07389,\n",
       " -1.08332,\n",
       " -1.0927499999999999,\n",
       " -1.10218,\n",
       " -1.11161,\n",
       " -1.12104,\n",
       " -1.1304699999999999,\n",
       " -1.1399,\n",
       " -1.14933,\n",
       " -1.15876,\n",
       " -1.16819,\n",
       " -1.1776200000000001,\n",
       " -1.1870500000000002,\n",
       " -1.19648,\n",
       " -1.20591,\n",
       " -1.21534,\n",
       " -1.22477,\n",
       " -1.2342,\n",
       " -1.24363,\n",
       " -1.25306,\n",
       " -1.2624900000000001,\n",
       " -1.2719200000000002,\n",
       " -1.2813500000000002,\n",
       " -1.29078,\n",
       " -1.3002099999999999,\n",
       " -1.30964,\n",
       " -1.31907,\n",
       " -1.3285,\n",
       " -1.33793,\n",
       " -1.3473600000000001,\n",
       " -1.3567900000000002,\n",
       " -1.36622,\n",
       " -1.37565,\n",
       " -1.3850800000000003,\n",
       " -1.3945100000000001,\n",
       " -1.40394,\n",
       " -1.41337,\n",
       " -1.4228,\n",
       " -1.4322300000000001,\n",
       " -1.4416600000000002,\n",
       " -1.4510900000000002,\n",
       " -1.46052,\n",
       " -1.46995,\n",
       " -1.4793800000000001,\n",
       " -1.4888100000000002,\n",
       " -1.49824,\n",
       " -1.50767,\n",
       " -1.5171000000000001,\n",
       " -1.5265300000000002,\n",
       " -1.53596,\n",
       " -1.54539,\n",
       " -1.55482,\n",
       " -1.5642500000000001,\n",
       " -1.5736800000000002,\n",
       " -1.58311,\n",
       " -1.59254,\n",
       " -1.6019700000000001,\n",
       " -1.6114000000000002,\n",
       " -1.6208300000000002,\n",
       " -1.63026,\n",
       " -1.63969,\n",
       " -1.64912,\n",
       " -1.65855,\n",
       " -1.66798,\n",
       " -1.67741,\n",
       " -1.6868400000000001,\n",
       " -1.6962700000000002,\n",
       " -1.7057,\n",
       " -1.71513,\n",
       " -1.72456,\n",
       " -1.7339900000000001,\n",
       " -1.74342,\n",
       " -1.75285,\n",
       " -1.76228,\n",
       " -1.7717100000000001,\n",
       " -1.78114,\n",
       " -1.79057]"
      ]
     },
     "execution_count": 37,
     "metadata": {},
     "output_type": "execute_result"
    }
   ],
   "source": [
    "joint_traj"
   ]
  },
  {
   "cell_type": "code",
   "execution_count": 39,
   "metadata": {},
   "outputs": [],
   "source": [
    "import numpy as np\n",
    "\n",
    "info = {\"qpos_error_history\": np.ones(3*12)}\n"
   ]
  },
  {
   "cell_type": "code",
   "execution_count": 59,
   "metadata": {},
   "outputs": [],
   "source": [
    "pos_error = np.ones(12)*3\n",
    "\n",
    "\n",
    "qpos_error_history = np.roll(info[\"qpos_error_history\"], 12)  # Shift elements forward by 12\n"
   ]
  },
  {
   "cell_type": "code",
   "execution_count": 60,
   "metadata": {},
   "outputs": [
    {
     "data": {
      "text/plain": [
       "array([1., 1., 1., 1., 1., 1., 1., 1., 1., 1., 1., 1., 3., 3., 3., 3., 3.,\n",
       "       3., 3., 3., 3., 3., 3., 3., 4., 4., 4., 4., 4., 4., 4., 4., 4., 4.,\n",
       "       4., 4.])"
      ]
     },
     "execution_count": 60,
     "metadata": {},
     "output_type": "execute_result"
    }
   ],
   "source": [
    "qpos_error_history"
   ]
  },
  {
   "cell_type": "code",
   "execution_count": 58,
   "metadata": {},
   "outputs": [],
   "source": [
    "qpos_error_history[:12] = pos_error  # Overwrite first 12 elements\n",
    "\n",
    "info[\"qpos_error_history\"] = qpos_error_history"
   ]
  },
  {
   "cell_type": "code",
   "execution_count": 20,
   "metadata": {},
   "outputs": [
    {
     "data": {
      "text/plain": [
       "array([4., 4., 4., 4., 4., 4., 4., 4., 4., 4., 4., 4., 3., 3., 3., 3., 3.,\n",
       "       3., 3., 3., 3., 3., 3., 3., 2., 2., 2., 2., 2., 2., 2., 2., 2., 2.,\n",
       "       2., 2.])"
      ]
     },
     "execution_count": 20,
     "metadata": {},
     "output_type": "execute_result"
    }
   ],
   "source": [
    "qpos_error_history"
   ]
  },
  {
   "cell_type": "code",
   "execution_count": 1,
   "metadata": {},
   "outputs": [],
   "source": [
    "import onnx"
   ]
  },
  {
   "cell_type": "code",
   "execution_count": 9,
   "metadata": {},
   "outputs": [
    {
     "name": "stdout",
     "output_type": "stream",
     "text": [
      "graph main_graph (\n",
      "  %state[FLOAT, 1x48]\n",
      ") initializers (\n",
      "  %mean[FLOAT, 48]\n",
      "  %std[FLOAT, 48]\n",
      "  %mlp_block.hidden_0.weight[FLOAT, 256x48]\n",
      "  %mlp_block.hidden_0.bias[FLOAT, 256]\n",
      "  %mlp_block.hidden_1.weight[FLOAT, 256x256]\n",
      "  %mlp_block.hidden_1.bias[FLOAT, 256]\n",
      "  %mlp_block.hidden_2.weight[FLOAT, 256x256]\n",
      "  %mlp_block.hidden_2.bias[FLOAT, 256]\n",
      "  %mlp_block.hidden_3.weight[FLOAT, 256x256]\n",
      "  %mlp_block.hidden_3.bias[FLOAT, 256]\n",
      "  %mlp_block.hidden_4.weight[FLOAT, 256x256]\n",
      "  %mlp_block.hidden_4.bias[FLOAT, 256]\n",
      "  %mlp_block.hidden_5.weight[FLOAT, 24x256]\n",
      "  %mlp_block.hidden_5.bias[FLOAT, 24]\n",
      ") {\n",
      "  %/Sub_output_0 = Sub(%state, %mean)\n",
      "  %/Div_output_0 = Div(%/Sub_output_0, %std)\n",
      "  %/mlp_block/hidden_0/Gemm_output_0 = Gemm[alpha = 1, beta = 1, transB = 1](%/Div_output_0, %mlp_block.hidden_0.weight, %mlp_block.hidden_0.bias)\n",
      "  %/mlp_block/activation/Sigmoid_output_0 = Sigmoid(%/mlp_block/hidden_0/Gemm_output_0)\n",
      "  %/mlp_block/activation/Mul_output_0 = Mul(%/mlp_block/hidden_0/Gemm_output_0, %/mlp_block/activation/Sigmoid_output_0)\n",
      "  %/mlp_block/hidden_1/Gemm_output_0 = Gemm[alpha = 1, beta = 1, transB = 1](%/mlp_block/activation/Mul_output_0, %mlp_block.hidden_1.weight, %mlp_block.hidden_1.bias)\n",
      "  %/mlp_block/activation_1/Sigmoid_output_0 = Sigmoid(%/mlp_block/hidden_1/Gemm_output_0)\n",
      "  %/mlp_block/activation_1/Mul_output_0 = Mul(%/mlp_block/hidden_1/Gemm_output_0, %/mlp_block/activation_1/Sigmoid_output_0)\n",
      "  %/mlp_block/hidden_2/Gemm_output_0 = Gemm[alpha = 1, beta = 1, transB = 1](%/mlp_block/activation_1/Mul_output_0, %mlp_block.hidden_2.weight, %mlp_block.hidden_2.bias)\n",
      "  %/mlp_block/activation_2/Sigmoid_output_0 = Sigmoid(%/mlp_block/hidden_2/Gemm_output_0)\n",
      "  %/mlp_block/activation_2/Mul_output_0 = Mul(%/mlp_block/hidden_2/Gemm_output_0, %/mlp_block/activation_2/Sigmoid_output_0)\n",
      "  %/mlp_block/hidden_3/Gemm_output_0 = Gemm[alpha = 1, beta = 1, transB = 1](%/mlp_block/activation_2/Mul_output_0, %mlp_block.hidden_3.weight, %mlp_block.hidden_3.bias)\n",
      "  %/mlp_block/activation_3/Sigmoid_output_0 = Sigmoid(%/mlp_block/hidden_3/Gemm_output_0)\n",
      "  %/mlp_block/activation_3/Mul_output_0 = Mul(%/mlp_block/hidden_3/Gemm_output_0, %/mlp_block/activation_3/Sigmoid_output_0)\n",
      "  %/mlp_block/hidden_4/Gemm_output_0 = Gemm[alpha = 1, beta = 1, transB = 1](%/mlp_block/activation_3/Mul_output_0, %mlp_block.hidden_4.weight, %mlp_block.hidden_4.bias)\n",
      "  %/mlp_block/activation_4/Sigmoid_output_0 = Sigmoid(%/mlp_block/hidden_4/Gemm_output_0)\n",
      "  %/mlp_block/activation_4/Mul_output_0 = Mul(%/mlp_block/hidden_4/Gemm_output_0, %/mlp_block/activation_4/Sigmoid_output_0)\n",
      "  %/mlp_block/hidden_5/Gemm_output_0 = Gemm[alpha = 1, beta = 1, transB = 1](%/mlp_block/activation_4/Mul_output_0, %mlp_block.hidden_5.weight, %mlp_block.hidden_5.bias)\n",
      "  %/Split_output_0, %/Split_output_1 = Split[axis = -1, split = [12, 12]](%/mlp_block/hidden_5/Gemm_output_0)\n",
      "  %actions = Tanh(%/Split_output_0)\n",
      "  return %actions\n",
      "}\n"
     ]
    }
   ],
   "source": [
    "model = onnx.load(\"/home/rajath/Documents/Go2_mjx/utils/outputs/go2_policy-5.onnx\")\n",
    "print(onnx.helper.printable_graph(model.graph))"
   ]
  },
  {
   "cell_type": "code",
   "execution_count": 10,
   "metadata": {},
   "outputs": [],
   "source": [
    "path = \"utils/weights/go2_params-5.pkl\""
   ]
  },
  {
   "cell_type": "code",
   "execution_count": null,
   "metadata": {},
   "outputs": [],
   "source": []
  }
 ],
 "metadata": {
  "kernelspec": {
   "display_name": "mjx_play",
   "language": "python",
   "name": "python3"
  },
  "language_info": {
   "codemirror_mode": {
    "name": "ipython",
    "version": 3
   },
   "file_extension": ".py",
   "mimetype": "text/x-python",
   "name": "python",
   "nbconvert_exporter": "python",
   "pygments_lexer": "ipython3",
   "version": "3.10.0"
  }
 },
 "nbformat": 4,
 "nbformat_minor": 2
}
